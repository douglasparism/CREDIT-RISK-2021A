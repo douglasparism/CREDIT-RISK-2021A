{
 "cells": [
  {
   "cell_type": "code",
   "execution_count": 1,
   "id": "b44ba282",
   "metadata": {},
   "outputs": [],
   "source": [
    "from wealth_distribution.models import Agent"
   ]
  },
  {
   "cell_type": "code",
   "execution_count": 2,
   "id": "9274d617",
   "metadata": {},
   "outputs": [],
   "source": [
    "agent = Agent(100)\n",
    "\n",
    "# You should be able to win 20 monetary units\n",
    "agent.win(amount=20)\n",
    "assert agent.money == 120\n",
    "\n",
    "# You should be able to lose 10 monetary units\n",
    "agent.lose(amount=10)\n",
    "assert agent.money == 110"
   ]
  },
  {
   "cell_type": "code",
   "execution_count": 3,
   "id": "544bf7e1",
   "metadata": {},
   "outputs": [],
   "source": [
    "agent_a = Agent(100)\n",
    "agent_b = Agent(100)\n",
    "\n",
    "# Two agents should be able to trade\n",
    "trading_amount = 25\n",
    "agent_a.trade(agent_b, amount=trading_amount)\n",
    "\n",
    "assert agent_a.money + agent_b.money == 200\n",
    "assert abs(agent_a.money - agent_b.money) == 2*trading_amount"
   ]
  },
  {
   "cell_type": "code",
   "execution_count": null,
   "id": "15569368",
   "metadata": {},
   "outputs": [],
   "source": []
  }
 ],
 "metadata": {
  "kernelspec": {
   "display_name": "Python 3",
   "language": "python",
   "name": "python3"
  },
  "language_info": {
   "codemirror_mode": {
    "name": "ipython",
    "version": 3
   },
   "file_extension": ".py",
   "mimetype": "text/x-python",
   "name": "python",
   "nbconvert_exporter": "python",
   "pygments_lexer": "ipython3",
   "version": "3.9.1"
  }
 },
 "nbformat": 4,
 "nbformat_minor": 5
}
