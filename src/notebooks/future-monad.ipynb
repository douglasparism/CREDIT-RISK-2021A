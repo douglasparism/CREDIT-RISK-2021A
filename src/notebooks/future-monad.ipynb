{
 "cells": [
  {
   "cell_type": "markdown",
   "id": "detailed-twins",
   "metadata": {},
   "source": [
    "## Future Monad\n",
    "\n",
    "We can use the native `Thread` python class to execute some operations on a different \"execution environment\" (thread). BUT we have a problem: how do we operate over the results from threads? How can we compose  between different future values? etc.\n",
    "\n",
    "The `Future` monad should allow us to manage the composition of:\n",
    "* Map transformations: `A => B`\n",
    "* FlatMap transformations: `A => Future[B]`\n",
    "\n",
    "Therefore, we could operate and compose future values.\n",
    "\n",
    "Let's start with the standard imports:\n",
    "* `uuid`: create random ID\n",
    "* `threading`: use the native thread python class.\n",
    "* `typing`: provide type annotations"
   ]
  },
  {
   "cell_type": "code",
   "execution_count": 1,
   "id": "coordinated-jamaica",
   "metadata": {},
   "outputs": [],
   "source": [
    "import uuid\n",
    "import time\n",
    "from threading import Thread\n",
    "from typing import Generic, TypeVar, Callable\n",
    "\n",
    "A = TypeVar('A')\n",
    "B = TypeVar('B')\n"
   ]
  },
  {
   "cell_type": "markdown",
   "id": "dedicated-medication",
   "metadata": {},
   "source": [
    "Create a new function that facilitates the composition of two functions:\n",
    "* `this: X => Y`\n",
    "* `and_then: Y => Z`\n",
    "* `compose: X => Z`"
   ]
  },
  {
   "cell_type": "code",
   "execution_count": 2,
   "id": "atlantic-sweden",
   "metadata": {},
   "outputs": [],
   "source": [
    "def compose(this: Callable[..., A], and_then: Callable[[A], B]) -> Callable[..., B]:\n",
    "    return lambda *x: and_then(this(*x))"
   ]
  },
  {
   "cell_type": "markdown",
   "id": "seasonal-garlic",
   "metadata": {},
   "source": [
    "Empty dictionary `results_registry` that will allow us to manage the results from the threads:"
   ]
  },
  {
   "cell_type": "code",
   "execution_count": 3,
   "id": "comparable-information",
   "metadata": {},
   "outputs": [],
   "source": [
    "results_registry = {}"
   ]
  },
  {
   "cell_type": "markdown",
   "id": "complicated-letters",
   "metadata": {},
   "source": [
    "The `FutureValueStatus` class should help us identify the status of the thread:\n",
    "* `pending`: waiting for result.\n",
    "* `done`: thread exited.\n",
    "\n",
    "```python\n",
    "# Initialize as pending\n",
    "val = FutureValueStatus.pending()\n",
    "\n",
    "# Update to 'done' status with value=5\n",
    "val.done(value=5)\n",
    "```"
   ]
  },
  {
   "cell_type": "code",
   "execution_count": 4,
   "id": "proved-habitat",
   "metadata": {},
   "outputs": [],
   "source": [
    "class FutureValueStatus:\n",
    "    PENDING = \"pending\"\n",
    "    DONE = \"done\"\n",
    "\n",
    "    def __init__(self, value, status):\n",
    "        self.value = value\n",
    "        self.status = status\n",
    "\n",
    "    def __repr__(self):\n",
    "        return f\"FutureValueStatus({self.value}, {self.status})\"\n",
    "\n",
    "    @classmethod\n",
    "    def pending(cls):\n",
    "        return FutureValueStatus(value=None, status=cls.PENDING)\n",
    "\n",
    "    def done(self, value):\n",
    "        self.value = value\n",
    "        self.status = self.DONE"
   ]
  },
  {
   "cell_type": "markdown",
   "id": "foreign-camera",
   "metadata": {},
   "source": [
    "Create a wrapper function to pass to the thread:\n",
    "* Call the `worker` function\n",
    "* Save the results on the `results_registry`"
   ]
  },
  {
   "cell_type": "code",
   "execution_count": 5,
   "id": "knowing-compound",
   "metadata": {},
   "outputs": [],
   "source": [
    "\n",
    "def worker_wrapper(worker: Callable, key: str, *args, **kwargs) -> Callable:\n",
    "    def wrapper():\n",
    "        global results_registry\n",
    "        results_registry[key].done(value=worker(*args, **kwargs))\n",
    "    return wrapper\n"
   ]
  },
  {
   "cell_type": "markdown",
   "id": "seeing-garage",
   "metadata": {},
   "source": [
    "Finally, create the `Future` class:"
   ]
  },
  {
   "cell_type": "code",
   "execution_count": 6,
   "id": "imposed-dream",
   "metadata": {},
   "outputs": [],
   "source": [
    "class Future(Generic[A]):\n",
    "\n",
    "    def __init__(self, worker: Callable[..., A], *args, **kwargs):\n",
    "        self.worker = worker\n",
    "        self.key = str(uuid.uuid4())\n",
    "        self.wrapper = worker_wrapper(worker, self.key, *args, **kwargs)\n",
    "        self.thread = Thread(target=self.wrapper)\n",
    "        self._result = None\n",
    "        results_registry[self.key] = FutureValueStatus.pending()\n",
    "        self.thread.start()\n",
    "\n",
    "    def __str__(self):\n",
    "        self.cleanup()\n",
    "        if self._result is None:\n",
    "            return f\"Future({self.key})\"\n",
    "        return f\"Future({self._result})\"\n",
    "\n",
    "    def __repr__(self):\n",
    "        return str(self)\n",
    "    \n",
    "    def is_resolved(self):\n",
    "        return self.key not in results_registry or results_registry[self.key].status == \"done\"\n",
    "    \n",
    "    def cleanup(self):\n",
    "        if self.key in results_registry and results_registry[self.key].status == \"done\":\n",
    "            self._result = results_registry.pop(self.key).value\n",
    "\n",
    "    def wait(self, cleanup: bool = False) -> A:\n",
    "        if self.key not in results_registry:\n",
    "            return self._result\n",
    "        if results_registry[self.key].status == \"pending\":\n",
    "            self.thread.join()\n",
    "        self._result = results_registry[self.key].value\n",
    "        if cleanup:\n",
    "            self.cleanup()\n",
    "        return self._result\n",
    "\n",
    "    def flat_map(self, f: Callable[[A], 'Future[B]']) -> 'Future[B]':\n",
    "        return Future(worker=lambda: f(self.wait(cleanup=True)).wait(cleanup=True))\n",
    "\n",
    "    @staticmethod\n",
    "    def pure(x: A) -> 'Future[A]':\n",
    "        return Future(worker=lambda: x)\n",
    "\n",
    "    def map(self, f: Callable[[A], B]) -> 'Future[B]':\n",
    "        function = compose(this=f, and_then=self.pure)\n",
    "        return self.flat_map(function)"
   ]
  },
  {
   "cell_type": "markdown",
   "id": "silent-version",
   "metadata": {},
   "source": [
    "## Example: Single future"
   ]
  },
  {
   "cell_type": "code",
   "execution_count": 7,
   "id": "metallic-friend",
   "metadata": {},
   "outputs": [],
   "source": [
    "# Worker function\n",
    "\n",
    "def add(a: int, b: int) -> int:\n",
    "    time.sleep(10)\n",
    "    return a + b"
   ]
  },
  {
   "cell_type": "markdown",
   "id": "dress-clause",
   "metadata": {},
   "source": [
    "Executing the `add` function takes 10 seconds every time!"
   ]
  },
  {
   "cell_type": "code",
   "execution_count": 8,
   "id": "empty-serial",
   "metadata": {},
   "outputs": [
    {
     "name": "stdout",
     "output_type": "stream",
     "text": [
      "10 s ± 0 ns per loop (mean ± std. dev. of 1 run, 1 loop each)\n"
     ]
    }
   ],
   "source": [
    "%%timeit -n 1 -r 1\n",
    "\n",
    "add(5 ,2)"
   ]
  },
  {
   "cell_type": "markdown",
   "id": "promising-batch",
   "metadata": {},
   "source": [
    "By using the `Future` class, this execution is done on a different thread. Therefore, the main program continues\n",
    "without any delay."
   ]
  },
  {
   "cell_type": "code",
   "execution_count": 9,
   "id": "utility-migration",
   "metadata": {},
   "outputs": [
    {
     "name": "stdout",
     "output_type": "stream",
     "text": [
      "1.18 ms ± 0 ns per loop (mean ± std. dev. of 1 run, 1 loop each)\n"
     ]
    }
   ],
   "source": [
    "%%timeit -n 1 -r 1\n",
    "\n",
    "future_a = Future(worker=add, a=5, b=2)\n",
    "future_a"
   ]
  },
  {
   "cell_type": "markdown",
   "id": "shaped-penny",
   "metadata": {},
   "source": [
    "The future object will eventually contain the future result (in this case 5 + 2 = 7) without blocking the execution of the main program.\n"
   ]
  },
  {
   "cell_type": "code",
   "execution_count": 10,
   "id": "painful-vault",
   "metadata": {},
   "outputs": [
    {
     "data": {
      "text/plain": [
       "Future(c1d94210-0b43-46fe-86a4-45a9152ce3ea)"
      ]
     },
     "execution_count": 10,
     "metadata": {},
     "output_type": "execute_result"
    }
   ],
   "source": [
    "future_a = Future(worker=add, a=5, b=2)\n",
    "future_a"
   ]
  },
  {
   "cell_type": "code",
   "execution_count": 11,
   "id": "plastic-pastor",
   "metadata": {},
   "outputs": [
    {
     "name": "stdout",
     "output_type": "stream",
     "text": [
      "t=1 Future(c1d94210-0b43-46fe-86a4-45a9152ce3ea)\n",
      "t=2 Future(c1d94210-0b43-46fe-86a4-45a9152ce3ea)\n",
      "t=3 Future(c1d94210-0b43-46fe-86a4-45a9152ce3ea)\n",
      "t=4 Future(c1d94210-0b43-46fe-86a4-45a9152ce3ea)\n",
      "t=5 Future(c1d94210-0b43-46fe-86a4-45a9152ce3ea)\n",
      "t=6 Future(c1d94210-0b43-46fe-86a4-45a9152ce3ea)\n",
      "t=7 Future(c1d94210-0b43-46fe-86a4-45a9152ce3ea)\n",
      "t=8 Future(c1d94210-0b43-46fe-86a4-45a9152ce3ea)\n",
      "t=9 Future(c1d94210-0b43-46fe-86a4-45a9152ce3ea)\n",
      "t=10 Future(7)\n"
     ]
    }
   ],
   "source": [
    "seconds = 0\n",
    "while not future_a.is_resolved():\n",
    "    time.sleep(1)\n",
    "    seconds += 1 \n",
    "    print(f\"t={seconds}\",future_a)"
   ]
  },
  {
   "cell_type": "markdown",
   "id": "square-answer",
   "metadata": {},
   "source": [
    "You can also wait on the result:"
   ]
  },
  {
   "cell_type": "code",
   "execution_count": 12,
   "id": "affected-miniature",
   "metadata": {},
   "outputs": [
    {
     "name": "stdout",
     "output_type": "stream",
     "text": [
      "10 s ± 0 ns per loop (mean ± std. dev. of 1 run, 1 loop each)\n"
     ]
    }
   ],
   "source": [
    "%%timeit -n 1 -r 1 \n",
    "\n",
    "# When using wait, the execution time is back to 10s\n",
    "Future(worker=add, a=5, b=2).wait()"
   ]
  },
  {
   "cell_type": "code",
   "execution_count": 13,
   "id": "stylish-denver",
   "metadata": {
    "scrolled": true
   },
   "outputs": [
    {
     "data": {
      "text/plain": [
       "7"
      ]
     },
     "execution_count": 13,
     "metadata": {},
     "output_type": "execute_result"
    }
   ],
   "source": [
    "# The return of 'wait' is the actual value we were waiting for\n",
    "res = Future(worker=add, a=5, b=2).wait()\n",
    "res"
   ]
  },
  {
   "cell_type": "markdown",
   "id": "overall-input",
   "metadata": {},
   "source": [
    "In essence, you can work in the present with values from the future **without waiting** by using the Future class. You can use the `wait` method to transform the future into a present value."
   ]
  },
  {
   "cell_type": "markdown",
   "id": "seventh-economics",
   "metadata": {},
   "source": [
    "## Example: Future operations\n",
    "\n",
    "You can operate over a future value even without having the value itself. Using `map` and `flat_map` will allow you to \"transform\" the future. "
   ]
  },
  {
   "cell_type": "code",
   "execution_count": 14,
   "id": "agricultural-boxing",
   "metadata": {},
   "outputs": [
    {
     "data": {
      "text/plain": [
       "Future(c5063f53-12fc-440d-990a-8c968e3eb3b2)"
      ]
     },
     "execution_count": 14,
     "metadata": {},
     "output_type": "execute_result"
    }
   ],
   "source": [
    "future_a = Future(add, a=5, b=2)\n",
    "future_a"
   ]
  },
  {
   "cell_type": "markdown",
   "id": "ahead-acting",
   "metadata": {},
   "source": [
    "The `future_a` will contain the value 7 in 10 seconds from now.\n",
    "\n",
    "We can multiply this value by 2 by applying `map`:"
   ]
  },
  {
   "cell_type": "code",
   "execution_count": 15,
   "id": "tired-trash",
   "metadata": {},
   "outputs": [
    {
     "data": {
      "text/plain": [
       "Future(1476fc9b-5a3a-4a3f-8e3e-6d1a10fb43a3)"
      ]
     },
     "execution_count": 15,
     "metadata": {},
     "output_type": "execute_result"
    }
   ],
   "source": [
    "future_b = future_a.map(lambda a: 2 * a)\n",
    "future_b"
   ]
  },
  {
   "cell_type": "markdown",
   "id": "saving-paint",
   "metadata": {},
   "source": [
    "The `future_b` will contain the value 14 one the `future_a` is resolved.\n",
    "\n",
    "We can call again `add` over the future value of `future_b` to add 5):"
   ]
  },
  {
   "cell_type": "code",
   "execution_count": 16,
   "id": "exclusive-bloom",
   "metadata": {},
   "outputs": [
    {
     "data": {
      "text/plain": [
       "Future(efa5904d-0ed3-40dc-b811-a8a9788a8bff)"
      ]
     },
     "execution_count": 16,
     "metadata": {},
     "output_type": "execute_result"
    }
   ],
   "source": [
    "future_c = future_b.map(lambda b: add(a=5, b=b))\n",
    "future_c"
   ]
  },
  {
   "cell_type": "markdown",
   "id": "fourth-applicant",
   "metadata": {},
   "source": [
    "Now, the `future_c` will be resolved 10 seconds after the `future_a`. Let's wait and see:"
   ]
  },
  {
   "cell_type": "code",
   "execution_count": 17,
   "id": "parental-principle",
   "metadata": {},
   "outputs": [
    {
     "name": "stdout",
     "output_type": "stream",
     "text": [
      "Future A: Future(7)\n",
      "Future C: Future(efa5904d-0ed3-40dc-b811-a8a9788a8bff)\n"
     ]
    }
   ],
   "source": [
    "time.sleep(10)\n",
    "print(\"Future A:\", future_a)\n",
    "print(\"Future C:\", future_c)"
   ]
  },
  {
   "cell_type": "markdown",
   "id": "committed-phone",
   "metadata": {},
   "source": [
    "Since we waited 10 seconds, the `future_a` should already be resolved, but the `future_c` is still pending. We can wait for `future_c` by either waiting another 10 seconds or calling the `wait` method."
   ]
  },
  {
   "cell_type": "code",
   "execution_count": 18,
   "id": "general-table",
   "metadata": {},
   "outputs": [
    {
     "name": "stdout",
     "output_type": "stream",
     "text": [
      "Future C: Future(19)\n"
     ]
    }
   ],
   "source": [
    "future_c.wait()\n",
    "print(\"Future C:\", future_c)"
   ]
  },
  {
   "cell_type": "markdown",
   "id": "fleet-holly",
   "metadata": {},
   "source": [
    "Note that you don't have to wait for a future to be resolved, since you can use `map` or `flat_map` to compose new futures!"
   ]
  },
  {
   "cell_type": "markdown",
   "id": "fixed-vacuum",
   "metadata": {},
   "source": [
    "## Example: Future composition\n",
    "\n",
    "Let's assume that we have two different functions:\n",
    "* `add` takes 10 seconds to execute.\n",
    "* `mult` takes 15 seconds to execute."
   ]
  },
  {
   "cell_type": "code",
   "execution_count": 19,
   "id": "distinct-compression",
   "metadata": {},
   "outputs": [],
   "source": [
    "def add(a, b):\n",
    "    time.sleep(10)\n",
    "    return a + b\n",
    "\n",
    "def mult(a, b):\n",
    "    time.sleep(15)\n",
    "    return a * b"
   ]
  },
  {
   "cell_type": "markdown",
   "id": "frank-christopher",
   "metadata": {},
   "source": [
    "Let's create a tuple with the following values:\n",
    "* Element 1: mult 5 * 7\n",
    "* Element 2: add 3 + 1 and then add another 7"
   ]
  },
  {
   "cell_type": "code",
   "execution_count": 20,
   "id": "fewer-ideal",
   "metadata": {},
   "outputs": [
    {
     "name": "stdout",
     "output_type": "stream",
     "text": [
      "35 s ± 0 ns per loop (mean ± std. dev. of 1 run, 1 loop each)\n"
     ]
    }
   ],
   "source": [
    "%%timeit -n 1 -r 1\n",
    "\n",
    "res = (mult(a=5, b=7), add(a=add(a=3, b=1), b=7))"
   ]
  },
  {
   "cell_type": "markdown",
   "id": "banner-china",
   "metadata": {},
   "source": [
    "Normal function composition in python takes 35 seconds since each function is executed sequentially.\n",
    "\n",
    "Can we do any better with futures?"
   ]
  },
  {
   "cell_type": "code",
   "execution_count": 21,
   "id": "mounted-recall",
   "metadata": {},
   "outputs": [
    {
     "name": "stdout",
     "output_type": "stream",
     "text": [
      "20 s ± 0 ns per loop (mean ± std. dev. of 1 run, 1 loop each)\n"
     ]
    }
   ],
   "source": [
    "%%timeit -n 1 -r 1\n",
    "\n",
    "future_1 = Future(worker=mult, a=5, b=7) # 15\n",
    "future_2 = Future(worker=add, a=3, b=1).map(lambda x: add(a=x, b=7)) # 10 + 10 = 20\n",
    "\n",
    "\n",
    "res = (future_1.wait(), future_2.wait())"
   ]
  },
  {
   "cell_type": "markdown",
   "id": "honey-reasoning",
   "metadata": {},
   "source": [
    "We are able to reduce the execution time from 35s to 20s because:\n",
    "* We can separate the problem into 2 different futures.\n",
    "* The 'futures' are running 'at the same time'.\n",
    "\n",
    "Why 20s?\n",
    "\n",
    "Because we are calling `add` twice and each execution takes 10 seconds. Calling `mult` takes 15 seconds. Therefore, the longest waiting time (20) is the execution time of the program.\n",
    "\n",
    "What if we wanted to sum (simple sum) the results from `future_1` and `future_2` ?"
   ]
  },
  {
   "cell_type": "code",
   "execution_count": 22,
   "id": "terminal-clear",
   "metadata": {},
   "outputs": [
    {
     "name": "stdout",
     "output_type": "stream",
     "text": [
      "46\n",
      "20 s ± 0 ns per loop (mean ± std. dev. of 1 run, 1 loop each)\n"
     ]
    }
   ],
   "source": [
    "%%timeit -n 1 -r 1\n",
    "\n",
    "future_1 = Future(worker=mult, a=5, b=7)\n",
    "future_2 = Future(worker=add, a=3, b=1).map(lambda x: add(a=x, b=7)) \n",
    "\n",
    "future_3 = future_1.flat_map(lambda a: future_2.map(lambda b: a + b))\n",
    "res = future_3.wait()\n",
    "\n",
    "print(res)"
   ]
  },
  {
   "cell_type": "markdown",
   "id": "visible-cause",
   "metadata": {},
   "source": [
    "We could create a new `future_3` with the  sum of the first 2 futures and wait for the results. This will still get 20s.\n",
    "\n",
    "What if we try to solve the problem in a single expression?"
   ]
  },
  {
   "cell_type": "code",
   "execution_count": 23,
   "id": "available-falls",
   "metadata": {},
   "outputs": [
    {
     "name": "stdout",
     "output_type": "stream",
     "text": [
      "46\n",
      "35 s ± 0 ns per loop (mean ± std. dev. of 1 run, 1 loop each)\n"
     ]
    }
   ],
   "source": [
    "%%timeit -n 1 -r 1\n",
    "\n",
    "res = Future(worker=mult, a=5, b=7).flat_map(\n",
    "    lambda a: Future(worker=add, a=3, b=1).map(\n",
    "        lambda x: add(a=x, b=7)).map(\n",
    "        lambda b: a + b)\n",
    ").wait()\n",
    "\n",
    "print(res)"
   ]
  },
  {
   "cell_type": "markdown",
   "id": "adjacent-reply",
   "metadata": {},
   "source": [
    "In order to solve the problem in the same expression, we had to declare nested futures. There's a limitation with this approach, as the nested future will only be executed once the top-level future finishes. Therefore, we are back to sequential execution (35s).\n",
    "\n",
    "Avoid using nested futures, unless you want a sequence dependency."
   ]
  },
  {
   "cell_type": "markdown",
   "id": "pursuant-performance",
   "metadata": {},
   "source": [
    "Consider the following scenario:\n",
    "* Apply the `add` function over each element of the argument list independently.\n",
    "* Use the regular `sum` function over the result set to get the total."
   ]
  },
  {
   "cell_type": "code",
   "execution_count": 24,
   "id": "characteristic-modification",
   "metadata": {},
   "outputs": [],
   "source": [
    "arguments = [\n",
    "    (50, 71),\n",
    "    (10, 42),\n",
    "    (22, 65),\n",
    "    (57, 38),\n",
    "    (40, 92),\n",
    "    (10, 15)\n",
    "]"
   ]
  },
  {
   "cell_type": "markdown",
   "id": "experienced-venezuela",
   "metadata": {},
   "source": [
    "Doing it sequentially takes about 60 seconds:"
   ]
  },
  {
   "cell_type": "code",
   "execution_count": null,
   "id": "parliamentary-fantasy",
   "metadata": {},
   "outputs": [],
   "source": [
    "from typing import List"
   ]
  },
  {
   "cell_type": "code",
   "execution_count": 25,
   "id": "raised-garden",
   "metadata": {},
   "outputs": [
    {
     "name": "stdout",
     "output_type": "stream",
     "text": [
      "Took 60.06s:  512\n"
     ]
    }
   ],
   "source": [
    "start = time.time()\n",
    "\n",
    "# Apply add function over the arguments\n",
    "results: List[int] = [add(*args) for args in arguments]\n",
    "\n",
    "# Get the total\n",
    "total = sum(results)\n",
    "\n",
    "print(f\"Took {round(time.time() - start, 2)}s: \", total)"
   ]
  },
  {
   "cell_type": "markdown",
   "id": "black-consortium",
   "metadata": {},
   "source": [
    "Doing it with futures only takes 10 seconds:"
   ]
  },
  {
   "cell_type": "code",
   "execution_count": 26,
   "id": "diagnostic-gamma",
   "metadata": {},
   "outputs": [
    {
     "name": "stdout",
     "output_type": "stream",
     "text": [
      "Took 10.01s:  512\n"
     ]
    }
   ],
   "source": [
    "start = time.time()\n",
    "\n",
    "# Apply add function over the arguments\n",
    "results: List[Future] = [Future(add, *args) for args in arguments]\n",
    "\n",
    "# Get the total\n",
    "total = sum(res.wait() for res in results)\n",
    "\n",
    "print(f\"Took {round(time.time() - start, 2)}s: \", total)"
   ]
  },
  {
   "cell_type": "markdown",
   "id": "front-petroleum",
   "metadata": {},
   "source": [
    "## Example: exceptions\n",
    "\n",
    "Consider the following `div` function. This function fails after 5s when `b=0`."
   ]
  },
  {
   "cell_type": "code",
   "execution_count": 27,
   "id": "generic-distribution",
   "metadata": {},
   "outputs": [],
   "source": [
    "def div(a, b):\n",
    "    time.sleep(5)\n",
    "    return a / b"
   ]
  },
  {
   "cell_type": "markdown",
   "id": "graduate-rachel",
   "metadata": {},
   "source": [
    "An exception on a separate thread does not affects the main program execution:"
   ]
  },
  {
   "cell_type": "code",
   "execution_count": 28,
   "id": "elder-strap",
   "metadata": {},
   "outputs": [
    {
     "name": "stdout",
     "output_type": "stream",
     "text": [
      "t=0 Future(3f87821d-e675-4629-8607-dfbbadc93c74) Future(2b3064e7-4c26-44a7-b9cd-9404b1c2f102)\n",
      "t=1 Future(3f87821d-e675-4629-8607-dfbbadc93c74) Future(2b3064e7-4c26-44a7-b9cd-9404b1c2f102)\n",
      "t=2 Future(3f87821d-e675-4629-8607-dfbbadc93c74) Future(2b3064e7-4c26-44a7-b9cd-9404b1c2f102)\n",
      "t=3 Future(3f87821d-e675-4629-8607-dfbbadc93c74) Future(2b3064e7-4c26-44a7-b9cd-9404b1c2f102)\n",
      "t=4 Future(3f87821d-e675-4629-8607-dfbbadc93c74) Future(2b3064e7-4c26-44a7-b9cd-9404b1c2f102)\n"
     ]
    },
    {
     "name": "stderr",
     "output_type": "stream",
     "text": [
      "Exception in thread Thread-37:\n",
      "Traceback (most recent call last):\n",
      "  File \"/usr/lib/python3.8/threading.py\", line 932, in _bootstrap_inner\n",
      "    self.run()\n",
      "  File \"/usr/lib/python3.8/threading.py\", line 870, in run\n",
      "    self._target(*self._args, **self._kwargs)\n",
      "  File \"<ipython-input-5-eab3929bef55>\", line 4, in wrapper\n",
      "  File \"<ipython-input-27-9232cd332f44>\", line 3, in div\n",
      "ZeroDivisionError: division by zero\n"
     ]
    },
    {
     "name": "stdout",
     "output_type": "stream",
     "text": [
      "t=5 Future(3f87821d-e675-4629-8607-dfbbadc93c74) Future(0.5)\n",
      "t=6 Future(3f87821d-e675-4629-8607-dfbbadc93c74) Future(0.5)\n",
      "t=7 Future(3f87821d-e675-4629-8607-dfbbadc93c74) Future(0.5)\n",
      "t=8 Future(3f87821d-e675-4629-8607-dfbbadc93c74) Future(0.5)\n",
      "t=9 Future(3f87821d-e675-4629-8607-dfbbadc93c74) Future(0.5)\n"
     ]
    }
   ],
   "source": [
    "seconds = 0\n",
    "\n",
    "future_a = Future(worker=div, a=1, b=0)\n",
    "future_b = Future(worker=div, a=1, b=2)\n",
    "\n",
    "while seconds < 10:\n",
    "    print(f\"t={seconds}\",future_a, future_b)\n",
    "    time.sleep(1)\n",
    "    seconds += 1 \n",
    "    "
   ]
  },
  {
   "cell_type": "markdown",
   "id": "expected-syria",
   "metadata": {},
   "source": [
    "As you have noticed, there was a failure between `t=4 & t=5` BUT the program execution continued and the `future_a` kept unresolved.\n",
    "\n",
    "We could solve this problem by incorporating the `Option` monad!"
   ]
  },
  {
   "cell_type": "code",
   "execution_count": null,
   "id": "hearing-horse",
   "metadata": {},
   "outputs": [],
   "source": []
  }
 ],
 "metadata": {
  "kernelspec": {
   "display_name": "Python 3",
   "language": "python",
   "name": "python3"
  },
  "language_info": {
   "codemirror_mode": {
    "name": "ipython",
    "version": 3
   },
   "file_extension": ".py",
   "mimetype": "text/x-python",
   "name": "python",
   "nbconvert_exporter": "python",
   "pygments_lexer": "ipython3",
   "version": "3.8.5"
  }
 },
 "nbformat": 4,
 "nbformat_minor": 5
}
