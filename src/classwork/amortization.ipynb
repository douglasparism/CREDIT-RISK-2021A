{
 "cells": [
  {
   "cell_type": "markdown",
   "id": "sorted-reporter",
   "metadata": {},
   "source": [
    "# Amortization (workspace notebook)\n",
    "\n",
    "We can use this notebook to work on our `amortization` application. Since this is located on `src/classworks` we can import directly the `amortization` module."
   ]
  },
  {
   "cell_type": "markdown",
   "id": "rolled-ghana",
   "metadata": {},
   "source": [
    "We use the `settings` module to save the applications configuration. In this case, we can get the `AMORTIZATION_TABLE_DIRPATH` that represents the \"location\" of the `TABLE` directory in the filesystem.\n",
    "\n",
    "Let's create the folder if not exists. We can add this logic into the `setup` command:"
   ]
  },
  {
   "cell_type": "code",
   "execution_count": 13,
   "id": "naval-juice",
   "metadata": {},
   "outputs": [],
   "source": [
    "import os\n",
    "from amortization.settings import AMORTIZATION_TABLE_DIRPATH"
   ]
  },
  {
   "cell_type": "code",
   "execution_count": 14,
   "id": "understood-fifty",
   "metadata": {},
   "outputs": [
    {
     "data": {
      "text/plain": [
       "'/home/rhdzmota/Documents/Github/CREDIT-RISK-2021A/src/classwork/amortization/tables'"
      ]
     },
     "execution_count": 14,
     "metadata": {},
     "output_type": "execute_result"
    }
   ],
   "source": [
    "AMORTIZATION_TABLE_DIRPATH"
   ]
  },
  {
   "cell_type": "code",
   "execution_count": 15,
   "id": "characteristic-stylus",
   "metadata": {},
   "outputs": [],
   "source": [
    "# Create the folder if not exists\n",
    "if not os.path.exists(AMORTIZATION_TABLE_DIRPATH):\n",
    "    os.makedirs(AMORTIZATION_TABLE_DIRPATH)"
   ]
  },
  {
   "cell_type": "markdown",
   "id": "palestinian-selling",
   "metadata": {},
   "source": [
    "Import the `Amortization` class and create two instances."
   ]
  },
  {
   "cell_type": "code",
   "execution_count": 16,
   "id": "reasonable-liberia",
   "metadata": {},
   "outputs": [],
   "source": [
    "import pandas as pd\n",
    "from fintools import Amortization\n",
    "\n",
    "pd.options.display.float_format = '${:,.2f}'.format\n",
    "\n",
    "# Create a couple Amortization instances\n",
    "amortization_a = Amortization(amount=50000, rate=0.08, n=8)\n",
    "amortization_b = Amortization(amount=18000, rate=0.34/12, n=6)"
   ]
  },
  {
   "cell_type": "code",
   "execution_count": 17,
   "id": "mental-southwest",
   "metadata": {},
   "outputs": [
    {
     "data": {
      "text/html": [
       "<div>\n",
       "<style scoped>\n",
       "    .dataframe tbody tr th:only-of-type {\n",
       "        vertical-align: middle;\n",
       "    }\n",
       "\n",
       "    .dataframe tbody tr th {\n",
       "        vertical-align: top;\n",
       "    }\n",
       "\n",
       "    .dataframe thead th {\n",
       "        text-align: right;\n",
       "    }\n",
       "</style>\n",
       "<table border=\"1\" class=\"dataframe\">\n",
       "  <thead>\n",
       "    <tr style=\"text-align: right;\">\n",
       "      <th></th>\n",
       "      <th>t</th>\n",
       "      <th>balance</th>\n",
       "      <th>principal</th>\n",
       "      <th>interest</th>\n",
       "      <th>annuity</th>\n",
       "    </tr>\n",
       "  </thead>\n",
       "  <tbody>\n",
       "    <tr>\n",
       "      <th>0</th>\n",
       "      <td>0</td>\n",
       "      <td>$18,000.00</td>\n",
       "      <td>NaN</td>\n",
       "      <td>NaN</td>\n",
       "      <td>NaN</td>\n",
       "    </tr>\n",
       "    <tr>\n",
       "      <th>1</th>\n",
       "      <td>1</td>\n",
       "      <td>$15,205.58</td>\n",
       "      <td>$2,794.42</td>\n",
       "      <td>$510.00</td>\n",
       "      <td>$3,304.42</td>\n",
       "    </tr>\n",
       "    <tr>\n",
       "      <th>2</th>\n",
       "      <td>2</td>\n",
       "      <td>$12,331.98</td>\n",
       "      <td>$2,873.60</td>\n",
       "      <td>$430.82</td>\n",
       "      <td>$3,304.42</td>\n",
       "    </tr>\n",
       "    <tr>\n",
       "      <th>3</th>\n",
       "      <td>3</td>\n",
       "      <td>$9,376.96</td>\n",
       "      <td>$2,955.02</td>\n",
       "      <td>$349.41</td>\n",
       "      <td>$3,304.42</td>\n",
       "    </tr>\n",
       "    <tr>\n",
       "      <th>4</th>\n",
       "      <td>4</td>\n",
       "      <td>$6,338.22</td>\n",
       "      <td>$3,038.74</td>\n",
       "      <td>$265.68</td>\n",
       "      <td>$3,304.42</td>\n",
       "    </tr>\n",
       "    <tr>\n",
       "      <th>5</th>\n",
       "      <td>5</td>\n",
       "      <td>$3,213.38</td>\n",
       "      <td>$3,124.84</td>\n",
       "      <td>$179.58</td>\n",
       "      <td>$3,304.42</td>\n",
       "    </tr>\n",
       "    <tr>\n",
       "      <th>6</th>\n",
       "      <td>6</td>\n",
       "      <td>$-0.00</td>\n",
       "      <td>$3,213.38</td>\n",
       "      <td>$91.05</td>\n",
       "      <td>$3,304.42</td>\n",
       "    </tr>\n",
       "  </tbody>\n",
       "</table>\n",
       "</div>"
      ],
      "text/plain": [
       "   t    balance  principal  interest   annuity\n",
       "0  0 $18,000.00        NaN       NaN       NaN\n",
       "1  1 $15,205.58  $2,794.42   $510.00 $3,304.42\n",
       "2  2 $12,331.98  $2,873.60   $430.82 $3,304.42\n",
       "3  3  $9,376.96  $2,955.02   $349.41 $3,304.42\n",
       "4  4  $6,338.22  $3,038.74   $265.68 $3,304.42\n",
       "5  5  $3,213.38  $3,124.84   $179.58 $3,304.42\n",
       "6  6     $-0.00  $3,213.38    $91.05 $3,304.42"
      ]
     },
     "execution_count": 17,
     "metadata": {},
     "output_type": "execute_result"
    }
   ],
   "source": [
    "# We should be able to get a dataframe\n",
    "df = amortization_b.get_table()\n",
    "df"
   ]
  },
  {
   "cell_type": "markdown",
   "id": "limited-support",
   "metadata": {},
   "source": [
    "We should be able to get other implementations we already have on fintools:"
   ]
  },
  {
   "cell_type": "code",
   "execution_count": 18,
   "id": "virgin-mistake",
   "metadata": {},
   "outputs": [],
   "source": [
    "from fintools.rates import Cetes28\n",
    "\n",
    "cetes28 = Cetes28()"
   ]
  },
  {
   "cell_type": "code",
   "execution_count": 19,
   "id": "absolute-diabetes",
   "metadata": {},
   "outputs": [
    {
     "data": {
      "text/plain": [
       "4.07"
      ]
     },
     "execution_count": 19,
     "metadata": {},
     "output_type": "execute_result"
    }
   ],
   "source": [
    "cetes28.get_dataframe().iloc[-1].value"
   ]
  },
  {
   "cell_type": "markdown",
   "id": "independent-digit",
   "metadata": {},
   "source": [
    "Let's create a quick visualization:"
   ]
  },
  {
   "cell_type": "code",
   "execution_count": 21,
   "id": "dying-command",
   "metadata": {},
   "outputs": [],
   "source": [
    "import matplotlib.pyplot as plt"
   ]
  },
  {
   "cell_type": "code",
   "execution_count": 22,
   "id": "flush-documentary",
   "metadata": {},
   "outputs": [
    {
     "data": {
      "image/png": "[encoded data removed]",
      "text/plain": [
       "<Figure size 432x288 with 1 Axes>"
      ]
     },
     "metadata": {
      "needs_background": "light"
     },
     "output_type": "display_data"
    }
   ],
   "source": [
    "a = Amortization(amount=18000, rate=0.10, n=10)\n",
    "df = a.get_table()\n",
    "\n",
    "plot = df.plot.bar(x=\"t\", y=[\"principal\", \"interest\"], stacked=True)\n",
    "plt.title(\"Amortization Payments: ${:,.2f}\".format(a.annuity))\n",
    "plt.ylabel(\"$$$\")\n",
    "plt.grid()\n",
    "plt.show()"
   ]
  },
  {
   "cell_type": "code",
   "execution_count": 23,
   "id": "detected-beatles",
   "metadata": {},
   "outputs": [
    {
     "data": {
      "text/plain": [
       "2929.4171078852073"
      ]
     },
     "execution_count": 23,
     "metadata": {},
     "output_type": "execute_result"
    }
   ],
   "source": [
    "df.annuity[1:].unique().tolist().pop()"
   ]
  },
  {
   "cell_type": "code",
   "execution_count": 24,
   "id": "brilliant-generation",
   "metadata": {},
   "outputs": [
    {
     "data": {
      "image/png": "[encoded data removed]",
      "text/plain": [
       "<Figure size 432x288 with 1 Axes>"
      ]
     },
     "execution_count": 24,
     "metadata": {},
     "output_type": "execute_result"
    }
   ],
   "source": [
    "plot.get_figure()"
   ]
  },
  {
   "cell_type": "code",
   "execution_count": null,
   "id": "ranking-oxide",
   "metadata": {},
   "outputs": [],
   "source": []
  }
 ],
 "metadata": {
  "kernelspec": {
   "display_name": "Python 3",
   "language": "python",
   "name": "python3"
  },
  "language_info": {
   "codemirror_mode": {
    "name": "ipython",
    "version": 3
   },
   "file_extension": ".py",
   "mimetype": "text/x-python",
   "name": "python",
   "nbconvert_exporter": "python",
   "pygments_lexer": "ipython3",
   "version": "3.8.5"
  }
 },
 "nbformat": 4,
 "nbformat_minor": 5
}
